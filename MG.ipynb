version https://git-lfs.github.com/spec/v1
oid sha256:cd760d763fdaf772271323ff5d61cf649568f85c618a2b7d3932e14aefb4d018
size 14562
